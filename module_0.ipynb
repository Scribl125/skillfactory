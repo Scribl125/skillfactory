{
 "cells": [
  {
   "cell_type": "code",
   "execution_count": 64,
   "metadata": {},
   "outputs": [
    {
     "name": "stdout",
     "output_type": "stream",
     "text": [
      "Загадано число от 1 до 100\n",
      "Вы угадали число 96 за 96 попыток.\n"
     ]
    }
   ],
   "source": [
    "import numpy as np\n",
    "\n",
    "\n",
    "number = np.random.randint(1,101)      # загадали число\n",
    "print (\"Загадано число от 1 до 100\")\n",
    "for count in range(1,101):         # более компактный вариант счетчика\n",
    "    if number == count: break # выход из цикла, если угадали\n",
    "        #while \n",
    "    ((count > number) // 2)  or ((count > number) + 1)\n",
    "    #if count > number:\n",
    "     #   count /= 2\n",
    "     #   if count < number:\n",
    "        #    count += 2\n",
    "            \n",
    "print (f\"Вы угадали число {number} за {count} попыток.\")   "
   ]
  },
  {
   "cell_type": "code",
   "execution_count": 40,
   "metadata": {},
   "outputs": [],
   "source": [
    "import numpy as np\n",
    "\n",
    "\n",
    "def game_core_v2(number):\n",
    "    '''Сначала устанавливаем любое random число, а потом уменьшаем или увеличиваем его в зависимости от того, больше оно или меньше нужного.\n",
    "       Функция принимает загаданное число и возвращает число попыток'''\n",
    "    count = 1\n",
    "    predict = np.random.randint(1,101)\n",
    "    while number != predict:\n",
    "        count+=1\n",
    "        if number > predict: \n",
    "            predict += 5\n",
    "        elif number < predict: \n",
    "            predict -= 2\n",
    "    return(count) # выход из цикла, если угадали\n",
    "        \n",
    "        \n",
    "def score_game(game_core):\n",
    "    '''Запускаем игру 1000 раз, чтобы узнать, как быстро игра угадывает число'''\n",
    "    count_ls = []\n",
    "    np.random.seed(1)  # фиксируем RANDOM SEED, чтобы ваш эксперимент был воспроизводим!\n",
    "    random_array = np.random.randint(1,101, size=(1000))\n",
    "    for number in random_array:\n",
    "        count_ls.append(game_core(number))\n",
    "    score = int(np.mean(count_ls))\n",
    "    print(f\"Ваш алгоритм угадывает число в среднем за {score} попыток\")\n",
    "    return(score)"
   ]
  },
  {
   "cell_type": "code",
   "execution_count": 37,
   "metadata": {},
   "outputs": [
    {
     "name": "stdout",
     "output_type": "stream",
     "text": [
      "Ваш алгоритм угадывает число в среднем за 14 попыток\n"
     ]
    },
    {
     "data": {
      "text/plain": [
       "14"
      ]
     },
     "execution_count": 37,
     "metadata": {},
     "output_type": "execute_result"
    }
   ],
   "source": [
    "score_game(game_core_v2)"
   ]
  },
  {
   "cell_type": "code",
   "execution_count": 41,
   "metadata": {},
   "outputs": [
    {
     "ename": "NameError",
     "evalue": "name 'count_ls' is not defined",
     "output_type": "error",
     "traceback": [
      "\u001b[1;31m---------------------------------------------------------------------------\u001b[0m",
      "\u001b[1;31mNameError\u001b[0m                                 Traceback (most recent call last)",
      "\u001b[1;32m<ipython-input-41-f56d6dd9bc13>\u001b[0m in \u001b[0;36m<module>\u001b[1;34m\u001b[0m\n\u001b[1;32m----> 1\u001b[1;33m \u001b[0mprint\u001b[0m\u001b[1;33m(\u001b[0m\u001b[0mcount_ls\u001b[0m\u001b[1;33m)\u001b[0m\u001b[1;33m\u001b[0m\u001b[1;33m\u001b[0m\u001b[0m\n\u001b[0m",
      "\u001b[1;31mNameError\u001b[0m: name 'count_ls' is not defined"
     ]
    }
   ],
   "source": [
    "print(count_ls)\n"
   ]
  },
  {
   "cell_type": "code",
   "execution_count": 57,
   "metadata": {},
   "outputs": [
    {
     "data": {
      "text/plain": [
       "22"
      ]
     },
     "execution_count": 57,
     "metadata": {},
     "output_type": "execute_result"
    }
   ],
   "source": [
    "45 // 2\n"
   ]
  },
  {
   "cell_type": "code",
   "execution_count": 71,
   "metadata": {},
   "outputs": [
    {
     "ename": "IndentationError",
     "evalue": "expected an indented block (<ipython-input-71-81819bddffd5>, line 9)",
     "output_type": "error",
     "traceback": [
      "\u001b[1;36m  File \u001b[1;32m\"<ipython-input-71-81819bddffd5>\"\u001b[1;36m, line \u001b[1;32m9\u001b[0m\n\u001b[1;33m    print(random_num)\u001b[0m\n\u001b[1;37m    ^\u001b[0m\n\u001b[1;31mIndentationError\u001b[0m\u001b[1;31m:\u001b[0m expected an indented block\n"
     ]
    }
   ],
   "source": [
    "import numpy as np\n",
    "\n",
    "\n",
    "number = np.random.randint(1,101)\n",
    "\n",
    "for random_num in range(1,101):\n",
    "    \n",
    "        \n",
    "print(random_num)   "
   ]
  },
  {
   "cell_type": "code",
   "execution_count": null,
   "metadata": {},
   "outputs": [],
   "source": [
    "numb = 90\n",
    "count = 1\n",
    "for random_num in range(1,101):\n",
    "    if random_num != numb: //2\n",
    "    count+=1\n",
    "    if count < numb: \n",
    "        count *= 2\n",
    "    elif count > numb: \n",
    "        count /= 2\n",
    "    print(count)"
   ]
  },
  {
   "cell_type": "code",
   "execution_count": 178,
   "metadata": {},
   "outputs": [
    {
     "name": "stdout",
     "output_type": "stream",
     "text": [
      "Загадонно число 8\n",
      "13\n"
     ]
    }
   ],
   "source": [
    "import numpy as np\n",
    "\n",
    "count = 1\n",
    "predict = np.random.randint(1,101)\n",
    "print('Загадонно число', predict)\n",
    "while number != predict:\n",
    "    count+=1\n",
    "    if number > predict: \n",
    "        predict += 5\n",
    "    elif number < predict: \n",
    "        predict -= 2\n",
    "print(count)"
   ]
  },
  {
   "cell_type": "code",
   "execution_count": 176,
   "metadata": {},
   "outputs": [
    {
     "name": "stdout",
     "output_type": "stream",
     "text": [
      "Загадано число от 1 до 100\n",
      "цикл 1\n",
      "конец цикла 6\n",
      "цикл 2\n",
      "конец цикла 7\n",
      "цикл 3\n",
      "конец цикла 8\n",
      "цикл 4\n",
      "конец цикла 9\n",
      "цикл 5\n",
      "конец цикла 10\n",
      "цикл 6\n",
      "конец цикла 11\n",
      "цикл 7\n",
      "конец цикла 12\n",
      "цикл 8\n",
      "конец цикла 13\n",
      "цикл 9\n",
      "конец цикла 14\n",
      "цикл 10\n",
      "конец цикла 15\n",
      "цикл 11\n",
      "конец цикла 16\n",
      "цикл 12\n",
      "конец цикла 17\n",
      "цикл 13\n",
      "конец цикла 18\n",
      "цикл 14\n",
      "конец цикла 19\n",
      "цикл 15\n",
      "конец цикла 20\n",
      "цикл 16\n",
      "конец цикла 21\n",
      "цикл 17\n",
      "конец цикла 22\n",
      "цикл 18\n",
      "конец цикла 23\n",
      "цикл 19\n",
      "конец цикла 24\n",
      "цикл 20\n",
      "конец цикла 25\n",
      "цикл 21\n",
      "конец цикла 26\n",
      "цикл 22\n",
      "конец цикла 27\n",
      "цикл 23\n",
      "конец цикла 28\n",
      "цикл 24\n",
      "конец цикла 29\n",
      "цикл 25\n",
      "конец цикла 30\n",
      "цикл 26\n",
      "конец цикла 31\n",
      "цикл 27\n",
      "конец цикла 32\n",
      "цикл 28\n",
      "конец цикла 33\n",
      "цикл 29\n",
      "конец цикла 34\n",
      "цикл 30\n",
      "конец цикла 35\n",
      "цикл 31\n",
      "конец цикла 36\n",
      "цикл 32\n",
      "конец цикла 37\n",
      "цикл 33\n",
      "конец цикла 38\n",
      "цикл 34\n",
      "конец цикла 39\n",
      "цикл 35\n",
      "конец цикла 40\n",
      "цикл 36\n",
      "конец цикла 41\n",
      "цикл 37\n",
      "конец цикла 42\n",
      "цикл 38\n",
      "конец цикла 43\n",
      "цикл 39\n",
      "конец цикла 44\n",
      "цикл 40\n",
      "конец цикла 45\n",
      "цикл 41\n",
      "конец цикла 39\n",
      "цикл 42\n",
      "конец цикла 40\n",
      "цикл 43\n",
      "конец цикла 41\n",
      "цикл 44\n",
      "конец цикла 42\n",
      "цикл 45\n",
      "конец цикла 43\n",
      "цикл 46\n",
      "конец цикла 44\n",
      "цикл 47\n",
      "конец цикла 45\n",
      "цикл 48\n",
      "конец цикла 46\n",
      "цикл 49\n",
      "конец цикла 47\n",
      "цикл 50\n",
      "конец цикла 48\n",
      "цикл 51\n",
      "конец цикла 49\n",
      "цикл 52\n",
      "конец цикла 50\n",
      "цикл 53\n",
      "конец цикла 51\n",
      "цикл 54\n",
      "конец цикла 52\n",
      "цикл 55\n",
      "конец цикла 53\n",
      "цикл 56\n",
      "конец цикла 54\n",
      "цикл 57\n",
      "конец цикла 55\n",
      "цикл 58\n",
      "конец цикла 56\n",
      "цикл 59\n",
      "конец цикла 57\n",
      "цикл 60\n",
      "конец цикла 58\n",
      "цикл 61\n",
      "конец цикла 59\n",
      "цикл 62\n",
      "конец цикла 60\n",
      "цикл 63\n",
      "конец цикла 61\n",
      "цикл 64\n",
      "конец цикла 62\n",
      "цикл 65\n",
      "конец цикла 63\n",
      "цикл 66\n",
      "конец цикла 64\n",
      "цикл 67\n",
      "конец цикла 65\n",
      "цикл 68\n",
      "конец цикла 66\n",
      "цикл 69\n",
      "конец цикла 67\n",
      "цикл 70\n",
      "конец цикла 68\n",
      "цикл 71\n",
      "конец цикла 69\n",
      "цикл 72\n",
      "конец цикла 70\n",
      "цикл 73\n",
      "конец цикла 71\n",
      "цикл 74\n",
      "конец цикла 72\n",
      "цикл 75\n",
      "конец цикла 73\n",
      "цикл 76\n",
      "конец цикла 74\n",
      "цикл 77\n",
      "конец цикла 75\n",
      "цикл 78\n",
      "конец цикла 76\n",
      "цикл 79\n",
      "конец цикла 77\n",
      "цикл 80\n",
      "конец цикла 78\n",
      "цикл 81\n",
      "конец цикла 79\n",
      "цикл 82\n",
      "конец цикла 80\n",
      "цикл 83\n",
      "конец цикла 81\n",
      "цикл 84\n",
      "конец цикла 82\n",
      "цикл 85\n",
      "конец цикла 83\n",
      "цикл 86\n",
      "конец цикла 84\n",
      "цикл 87\n",
      "конец цикла 85\n",
      "цикл 88\n",
      "конец цикла 86\n",
      "цикл 89\n",
      "конец цикла 87\n",
      "цикл 90\n",
      "конец цикла 88\n",
      "цикл 91\n",
      "конец цикла 89\n",
      "цикл 92\n",
      "конец цикла 90\n",
      "цикл 93\n",
      "конец цикла 91\n",
      "цикл 94\n",
      "конец цикла 92\n",
      "цикл 95\n",
      "конец цикла 93\n",
      "цикл 96\n",
      "конец цикла 94\n",
      "цикл 97\n",
      "конец цикла 95\n",
      "цикл 98\n",
      "конец цикла 96\n",
      "цикл 99\n",
      "конец цикла 97\n",
      "цикл 100\n",
      "конец цикла 98\n",
      "Вы угадали число 40 за 98 попыток.\n"
     ]
    }
   ],
   "source": [
    "number = np.random.randint(1,101)      # загадали число\n",
    "print (\"Загадано число от 1 до 100\")\n",
    "for count in range(1,101):         # более компактный вариант счетчика\n",
    "    print ('цикл',count)\n",
    "    #if number == count: break # выход из цикла, если угадали  \n",
    "    if number >= count:\n",
    "        count += 5\n",
    "    elif number <= count:\n",
    "        count -= 2\n",
    "    print ('конец цикла',count)\n",
    "    \n",
    "        \n",
    "print (f\"Вы угадали число {number} за {count} попыток.\")    "
   ]
  },
  {
   "cell_type": "code",
   "execution_count": null,
   "metadata": {},
   "outputs": [],
   "source": []
  },
  {
   "cell_type": "code",
   "execution_count": 2,
   "metadata": {},
   "outputs": [
    {
     "name": "stdout",
     "output_type": "stream",
     "text": [
      "Загадано число от 1 до 100\n",
      "Вы угадали число 60 за 6 попыток\n",
      "Ваш алгоритм угадывает число в среднем за 5 попыток\n"
     ]
    }
   ],
   "source": [
    "# The Game: Find the number with minimum iteration\n",
    "\n",
    "# Setting the borders for search range\n",
    "range_start = 1\n",
    "range_end = 100\n",
    "\n",
    "\n",
    "# Setting the target number by random function\n",
    "import numpy as np\n",
    "target_number = np.random.randint(range_start,range_end + 1) \n",
    "print (f\"Загадано число от {range_start} до {range_end}\")\n",
    "\n",
    "# The variable to save the number of iterations\n",
    "iteration_count=int()\n",
    "\n",
    "\n",
    "def find_function(target_number):\n",
    "    \"\"\" function to find the target number \"\"\"   \n",
    "\n",
    "    iteration_count = 0\n",
    "    left = range_start \n",
    "    right = range_end  \n",
    "    predict = 0\n",
    "    \n",
    "    while predict != target_number:    \n",
    "        \n",
    "        iteration_count += 1       \n",
    "       \n",
    "        predict = (left+right) // 2       \n",
    "\n",
    "        if target_number == predict: break  \n",
    "        \n",
    "        elif target_number > predict: \n",
    "            left = predict +1\n",
    "\n",
    "        elif target_number < predict: \n",
    "            right = predict -1\n",
    "\n",
    "    return(iteration_count)    \n",
    "\n",
    "\n",
    "print (f\"Вы угадали число {target_number} за {find_function(target_number)} попыток\")  \n",
    "\n",
    "\n",
    "def mean_count(find_function):\n",
    "    '''Calcualating mean count of iterations through testing \"find_function\" by 1000 times'''\n",
    "\n",
    "    iteration_count_ls = []\n",
    "    np.random.seed(1)\n",
    "    random_array = np.random.randint(range_start,range_end + 1, size=(1000))\n",
    "    \n",
    "    for number in random_array:\n",
    "        iteration_count_ls.append(find_function(number))\n",
    "    score = int(np.mean(iteration_count_ls))\n",
    "    \n",
    "    return(score)\n",
    "\n",
    "\n",
    "print(f\"Ваш алгоритм угадывает число в среднем за {mean_count(find_function)} попыток\")"
   ]
  },
  {
   "cell_type": "code",
   "execution_count": null,
   "metadata": {},
   "outputs": [],
   "source": []
  }
 ],
 "metadata": {
  "kernelspec": {
   "display_name": "Python 3",
   "language": "python",
   "name": "python3"
  },
  "language_info": {
   "codemirror_mode": {
    "name": "ipython",
    "version": 3
   },
   "file_extension": ".py",
   "mimetype": "text/x-python",
   "name": "python",
   "nbconvert_exporter": "python",
   "pygments_lexer": "ipython3",
   "version": "3.8.5"
  }
 },
 "nbformat": 4,
 "nbformat_minor": 4
}
